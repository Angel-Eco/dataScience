{
 "cells": [
  {
   "cell_type": "markdown",
   "id": "b1a138ec",
   "metadata": {},
   "source": [
    "# Funciones panda"
   ]
  },
  {
   "cell_type": "code",
   "execution_count": 75,
   "id": "b0208055",
   "metadata": {},
   "outputs": [],
   "source": [
    "import pandas as pd #libreria panda\n",
    "import matplotlib.pyplot as plt #graficos\n",
    "import numpy as np"
   ]
  },
  {
   "cell_type": "code",
   "execution_count": 76,
   "id": "62b3d037",
   "metadata": {},
   "outputs": [],
   "source": [
    "hidro=pd.read_csv('C:/Users/Angel/Documents/python/archivos/Hidroponia.csv',engine='python')"
   ]
  },
  {
   "cell_type": "code",
   "execution_count": 86,
   "id": "db19c1f4",
   "metadata": {},
   "outputs": [
    {
     "data": {
      "text/html": [
       "<div>\n",
       "<style scoped>\n",
       "    .dataframe tbody tr th:only-of-type {\n",
       "        vertical-align: middle;\n",
       "    }\n",
       "\n",
       "    .dataframe tbody tr th {\n",
       "        vertical-align: top;\n",
       "    }\n",
       "\n",
       "    .dataframe thead th {\n",
       "        text-align: right;\n",
       "    }\n",
       "</style>\n",
       "<table border=\"1\" class=\"dataframe\">\n",
       "  <thead>\n",
       "    <tr style=\"text-align: right;\">\n",
       "      <th></th>\n",
       "      <th>Cultivo</th>\n",
       "      <th>pH</th>\n",
       "      <th>EC</th>\n",
       "      <th>Sistema</th>\n",
       "      <th>DuracionCiclo</th>\n",
       "      <th>Cantidad</th>\n",
       "    </tr>\n",
       "    <tr>\n",
       "      <th>Hortaliza</th>\n",
       "      <th></th>\n",
       "      <th></th>\n",
       "      <th></th>\n",
       "      <th></th>\n",
       "      <th></th>\n",
       "      <th></th>\n",
       "    </tr>\n",
       "  </thead>\n",
       "  <tbody>\n",
       "    <tr>\n",
       "      <th>Flor</th>\n",
       "      <td>Brocoli</td>\n",
       "      <td>6 to 6.8</td>\n",
       "      <td>2.8 to 3.5</td>\n",
       "      <td>NFT</td>\n",
       "      <td>70-90</td>\n",
       "      <td>10</td>\n",
       "    </tr>\n",
       "    <tr>\n",
       "      <th>Fruto</th>\n",
       "      <td>Calabacita</td>\n",
       "      <td>6</td>\n",
       "      <td>1.8 to 2.4</td>\n",
       "      <td>Goteo</td>\n",
       "      <td>45</td>\n",
       "      <td>15</td>\n",
       "    </tr>\n",
       "    <tr>\n",
       "      <th>Fruto</th>\n",
       "      <td>Pepino</td>\n",
       "      <td>5 to 5.5</td>\n",
       "      <td>1.7 to 2</td>\n",
       "      <td>Goteo</td>\n",
       "      <td>70-80</td>\n",
       "      <td>8</td>\n",
       "    </tr>\n",
       "    <tr>\n",
       "      <th>Fruto</th>\n",
       "      <td>Pimientos</td>\n",
       "      <td>5.5 to 6</td>\n",
       "      <td>0.8 to 1.8</td>\n",
       "      <td>Goteo</td>\n",
       "      <td>65</td>\n",
       "      <td>20</td>\n",
       "    </tr>\n",
       "    <tr>\n",
       "      <th>Fruto</th>\n",
       "      <td>fresa</td>\n",
       "      <td>6</td>\n",
       "      <td>1.8 to 2.2</td>\n",
       "      <td>NFT</td>\n",
       "      <td>120-150</td>\n",
       "      <td>18</td>\n",
       "    </tr>\n",
       "    <tr>\n",
       "      <th>Fruto</th>\n",
       "      <td>Tomate</td>\n",
       "      <td>6 to 6.5</td>\n",
       "      <td>2 to 4</td>\n",
       "      <td>Goteo</td>\n",
       "      <td>110-120</td>\n",
       "      <td>55</td>\n",
       "    </tr>\n",
       "    <tr>\n",
       "      <th>Hoja</th>\n",
       "      <td>Albahaca</td>\n",
       "      <td>5.5 to 6</td>\n",
       "      <td>1 to 1.6</td>\n",
       "      <td>NFT</td>\n",
       "      <td>90</td>\n",
       "      <td>20</td>\n",
       "    </tr>\n",
       "    <tr>\n",
       "      <th>Hoja</th>\n",
       "      <td>Repollo</td>\n",
       "      <td>6.5 to 7</td>\n",
       "      <td>2.5 to 3</td>\n",
       "      <td>NFT</td>\n",
       "      <td>80-100</td>\n",
       "      <td>1</td>\n",
       "    </tr>\n",
       "    <tr>\n",
       "      <th>Hoja</th>\n",
       "      <td>Apio</td>\n",
       "      <td>6.5</td>\n",
       "      <td>1.8 to 2.4</td>\n",
       "      <td>NFT</td>\n",
       "      <td>90-120</td>\n",
       "      <td>2</td>\n",
       "    </tr>\n",
       "    <tr>\n",
       "      <th>Hoja</th>\n",
       "      <td>Lechuga</td>\n",
       "      <td>6 to 7</td>\n",
       "      <td>1.2 to 1.8</td>\n",
       "      <td>NFT</td>\n",
       "      <td>80-90</td>\n",
       "      <td>65</td>\n",
       "    </tr>\n",
       "    <tr>\n",
       "      <th>Hoja</th>\n",
       "      <td>Perejil</td>\n",
       "      <td>6 to 6.5</td>\n",
       "      <td>1.8 to 2.2</td>\n",
       "      <td>NFT</td>\n",
       "      <td>80</td>\n",
       "      <td>30</td>\n",
       "    </tr>\n",
       "    <tr>\n",
       "      <th>Raiz</th>\n",
       "      <td>Rabano</td>\n",
       "      <td>6 to 7</td>\n",
       "      <td>1.4 to 1.8</td>\n",
       "      <td>Aeroponia</td>\n",
       "      <td>60-70</td>\n",
       "      <td>35</td>\n",
       "    </tr>\n",
       "    <tr>\n",
       "      <th>Hoja</th>\n",
       "      <td>Espinacas</td>\n",
       "      <td>6 to 7</td>\n",
       "      <td>1.8 to 2.3</td>\n",
       "      <td>NFT</td>\n",
       "      <td>75</td>\n",
       "      <td>45</td>\n",
       "    </tr>\n",
       "    <tr>\n",
       "      <th>Raiz</th>\n",
       "      <td>Zanahoria</td>\n",
       "      <td>5.8 to 6.3</td>\n",
       "      <td>1.6 to 2.0</td>\n",
       "      <td>Aeroponia</td>\n",
       "      <td>90-100</td>\n",
       "      <td>30</td>\n",
       "    </tr>\n",
       "    <tr>\n",
       "      <th>Tallo</th>\n",
       "      <td>Cebollin</td>\n",
       "      <td>6.0 to 7.0</td>\n",
       "      <td>1.4  to 1.8</td>\n",
       "      <td>NFT</td>\n",
       "      <td>120</td>\n",
       "      <td>70</td>\n",
       "    </tr>\n",
       "  </tbody>\n",
       "</table>\n",
       "</div>"
      ],
      "text/plain": [
       "              Cultivo          pH           EC    Sistema DuracionCiclo  \\\n",
       "Hortaliza                                                                 \n",
       "Flor          Brocoli    6 to 6.8   2.8 to 3.5        NFT         70-90   \n",
       "Fruto      Calabacita           6   1.8 to 2.4      Goteo            45   \n",
       "Fruto          Pepino    5 to 5.5     1.7 to 2      Goteo         70-80   \n",
       "Fruto       Pimientos    5.5 to 6   0.8 to 1.8      Goteo            65   \n",
       "Fruto           fresa           6   1.8 to 2.2        NFT       120-150   \n",
       "Fruto          Tomate    6 to 6.5       2 to 4      Goteo       110-120   \n",
       "Hoja         Albahaca    5.5 to 6     1 to 1.6        NFT            90   \n",
       "Hoja          Repollo    6.5 to 7     2.5 to 3        NFT        80-100   \n",
       "Hoja             Apio         6.5   1.8 to 2.4        NFT        90-120   \n",
       "Hoja          Lechuga      6 to 7   1.2 to 1.8        NFT         80-90   \n",
       "Hoja          Perejil    6 to 6.5   1.8 to 2.2        NFT            80   \n",
       "Raiz           Rabano      6 to 7   1.4 to 1.8  Aeroponia         60-70   \n",
       "Hoja        Espinacas      6 to 7   1.8 to 2.3        NFT            75   \n",
       "Raiz        Zanahoria  5.8 to 6.3   1.6 to 2.0  Aeroponia        90-100   \n",
       "Tallo        Cebollin  6.0 to 7.0  1.4  to 1.8        NFT           120   \n",
       "\n",
       "           Cantidad  \n",
       "Hortaliza            \n",
       "Flor             10  \n",
       "Fruto            15  \n",
       "Fruto             8  \n",
       "Fruto            20  \n",
       "Fruto            18  \n",
       "Fruto            55  \n",
       "Hoja             20  \n",
       "Hoja              1  \n",
       "Hoja              2  \n",
       "Hoja             65  \n",
       "Hoja             30  \n",
       "Raiz             35  \n",
       "Hoja             45  \n",
       "Raiz             30  \n",
       "Tallo            70  "
      ]
     },
     "execution_count": 86,
     "metadata": {},
     "output_type": "execute_result"
    }
   ],
   "source": [
    "hidro.head(20)"
   ]
  },
  {
   "cell_type": "markdown",
   "id": "1f84e1b9",
   "metadata": {},
   "source": [
    "## Busqueda por columna"
   ]
  },
  {
   "cell_type": "code",
   "execution_count": 78,
   "id": "169ccc54",
   "metadata": {},
   "outputs": [],
   "source": [
    "hidro.set_index(\"Hortaliza\",inplace=True)"
   ]
  },
  {
   "cell_type": "code",
   "execution_count": 80,
   "id": "644154c5",
   "metadata": {},
   "outputs": [
    {
     "name": "stdout",
     "output_type": "stream",
     "text": [
      "              Cultivo        pH          EC Sistema DuracionCiclo  Cantidad\n",
      "Hortaliza                                                                  \n",
      "Fruto      Calabacita         6  1.8 to 2.4   Goteo            45        15\n",
      "Fruto          Pepino  5 to 5.5    1.7 to 2   Goteo         70-80         8\n",
      "Fruto       Pimientos  5.5 to 6  0.8 to 1.8   Goteo            65        20\n",
      "Fruto          Tomate  6 to 6.5      2 to 4   Goteo       110-120        55 ['Cultivo', 'Sistema']\n"
     ]
    }
   ],
   "source": [
    "print(hidro.loc[hidro['Sistema']=='Goteo'],['Cultivo','Sistema']) #con una condicion Goteo"
   ]
  },
  {
   "cell_type": "code",
   "execution_count": 81,
   "id": "e0bb833a",
   "metadata": {},
   "outputs": [
    {
     "name": "stdout",
     "output_type": "stream",
     "text": [
      "              Cultivo pH          EC Sistema DuracionCiclo  Cantidad\n",
      "Hortaliza                                                           \n",
      "Fruto      Calabacita  6  1.8 to 2.4   Goteo            45        15\n"
     ]
    }
   ],
   "source": [
    "print(hidro.loc[hidro['Sistema'].str.endswith('teo')&(hidro['pH']=='6')&(hidro['Cultivo']=='Calabacita')]) #con mas condiciones"
   ]
  },
  {
   "cell_type": "markdown",
   "id": "a118a8fa",
   "metadata": {},
   "source": [
    "## Agrupacion"
   ]
  },
  {
   "cell_type": "code",
   "execution_count": 91,
   "id": "8b40a9b0",
   "metadata": {},
   "outputs": [],
   "source": [
    "hidro2=hidro.groupby(['Hortaliza'])[['Cantidad']].max()"
   ]
  },
  {
   "cell_type": "code",
   "execution_count": 92,
   "id": "df62af2d",
   "metadata": {},
   "outputs": [
    {
     "name": "stdout",
     "output_type": "stream",
     "text": [
      "           Cantidad\n",
      "Hortaliza          \n",
      "Flor             10\n",
      "Fruto            55\n",
      "Hoja             65\n",
      "Raiz             35\n",
      "Tallo            70\n"
     ]
    }
   ],
   "source": [
    "print(hidro2)"
   ]
  },
  {
   "cell_type": "code",
   "execution_count": null,
   "id": "21a3d560",
   "metadata": {},
   "outputs": [],
   "source": []
  }
 ],
 "metadata": {
  "kernelspec": {
   "display_name": "Python 3",
   "language": "python",
   "name": "python3"
  },
  "language_info": {
   "codemirror_mode": {
    "name": "ipython",
    "version": 3
   },
   "file_extension": ".py",
   "mimetype": "text/x-python",
   "name": "python",
   "nbconvert_exporter": "python",
   "pygments_lexer": "ipython3",
   "version": "3.8.8"
  }
 },
 "nbformat": 4,
 "nbformat_minor": 5
}
