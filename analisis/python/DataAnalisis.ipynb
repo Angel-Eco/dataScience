{
 "cells": [
  {
   "cell_type": "markdown",
   "id": "84243d6c",
   "metadata": {},
   "source": [
    "# Analisis de datos"
   ]
  },
  {
   "cell_type": "markdown",
   "id": "471bcc6e",
   "metadata": {},
   "source": [
    "Importamos libreria"
   ]
  },
  {
   "cell_type": "code",
   "execution_count": 1,
   "id": "5a77fa4c",
   "metadata": {},
   "outputs": [],
   "source": [
    "import pandas as pd #libreria panda\n",
    "import matplotlib.pyplot as plt #graficos\n",
    "import numpy as np"
   ]
  },
  {
   "cell_type": "markdown",
   "id": "e8247500",
   "metadata": {},
   "source": [
    "Importamos datos"
   ]
  },
  {
   "cell_type": "code",
   "execution_count": 9,
   "id": "c65322fe",
   "metadata": {},
   "outputs": [],
   "source": [
    "corredores=pd.read_csv('C:/Users/Angel/Documents/python/Corredores.csv', engine='python')"
   ]
  },
  {
   "cell_type": "markdown",
   "id": "3ad1a628",
   "metadata": {},
   "source": [
    "Revisamos asignacion correcta de archivo de entrada\n"
   ]
  },
  {
   "cell_type": "code",
   "execution_count": 4,
   "id": "ecaf591d",
   "metadata": {},
   "outputs": [
    {
     "name": "stdout",
     "output_type": "stream",
     "text": [
      "<class 'pandas.core.frame.DataFrame'>\n",
      "RangeIndex: 1000 entries, 0 to 999\n",
      "Data columns (total 6 columns):\n",
      " #   Column    Non-Null Count  Dtype  \n",
      "---  ------    --------------  -----  \n",
      " 0   Pais      999 non-null    object \n",
      " 1   Corredor  1000 non-null   int64  \n",
      " 2   Lugar     1000 non-null   int64  \n",
      " 3   Genero    1000 non-null   object \n",
      " 4   Edad      1000 non-null   int64  \n",
      " 5   Tiempo    1000 non-null   float64\n",
      "dtypes: float64(1), int64(3), object(2)\n",
      "memory usage: 47.0+ KB\n"
     ]
    }
   ],
   "source": [
    "corredores.info()"
   ]
  },
  {
   "cell_type": "markdown",
   "id": "5646850e",
   "metadata": {},
   "source": [
    "Revisamos cabecera de archivo corredores.csv"
   ]
  },
  {
   "cell_type": "code",
   "execution_count": 12,
   "id": "c650d76d",
   "metadata": {
    "scrolled": true
   },
   "outputs": [
    {
     "data": {
      "text/html": [
       "<div>\n",
       "<style scoped>\n",
       "    .dataframe tbody tr th:only-of-type {\n",
       "        vertical-align: middle;\n",
       "    }\n",
       "\n",
       "    .dataframe tbody tr th {\n",
       "        vertical-align: top;\n",
       "    }\n",
       "\n",
       "    .dataframe thead th {\n",
       "        text-align: right;\n",
       "    }\n",
       "</style>\n",
       "<table border=\"1\" class=\"dataframe\">\n",
       "  <thead>\n",
       "    <tr style=\"text-align: right;\">\n",
       "      <th></th>\n",
       "      <th>Pais</th>\n",
       "      <th>Corredor</th>\n",
       "      <th>Lugar</th>\n",
       "      <th>Genero</th>\n",
       "      <th>Edad</th>\n",
       "      <th>Tiempo</th>\n",
       "    </tr>\n",
       "  </thead>\n",
       "  <tbody>\n",
       "    <tr>\n",
       "      <th>0</th>\n",
       "      <td>GBR</td>\n",
       "      <td>3475</td>\n",
       "      <td>3592</td>\n",
       "      <td>Male</td>\n",
       "      <td>52</td>\n",
       "      <td>217.483333</td>\n",
       "    </tr>\n",
       "    <tr>\n",
       "      <th>1</th>\n",
       "      <td>NY</td>\n",
       "      <td>13594</td>\n",
       "      <td>13853</td>\n",
       "      <td>Female</td>\n",
       "      <td>40</td>\n",
       "      <td>272.550000</td>\n",
       "    </tr>\n",
       "    <tr>\n",
       "      <th>2</th>\n",
       "      <td>FRA</td>\n",
       "      <td>12012</td>\n",
       "      <td>12256</td>\n",
       "      <td>Male</td>\n",
       "      <td>31</td>\n",
       "      <td>265.283333</td>\n",
       "    </tr>\n",
       "    <tr>\n",
       "      <th>3</th>\n",
       "      <td>MI</td>\n",
       "      <td>10236</td>\n",
       "      <td>10457</td>\n",
       "      <td>Female</td>\n",
       "      <td>33</td>\n",
       "      <td>256.150000</td>\n",
       "    </tr>\n",
       "    <tr>\n",
       "      <th>4</th>\n",
       "      <td>NY</td>\n",
       "      <td>9476</td>\n",
       "      <td>9686</td>\n",
       "      <td>Male</td>\n",
       "      <td>33</td>\n",
       "      <td>252.250000</td>\n",
       "    </tr>\n",
       "    <tr>\n",
       "      <th>5</th>\n",
       "      <td>NJ</td>\n",
       "      <td>1720</td>\n",
       "      <td>1784</td>\n",
       "      <td>Male</td>\n",
       "      <td>40</td>\n",
       "      <td>201.966667</td>\n",
       "    </tr>\n",
       "    <tr>\n",
       "      <th>6</th>\n",
       "      <td>CA</td>\n",
       "      <td>15736</td>\n",
       "      <td>16020</td>\n",
       "      <td>Female</td>\n",
       "      <td>30</td>\n",
       "      <td>283.566667</td>\n",
       "    </tr>\n",
       "    <tr>\n",
       "      <th>7</th>\n",
       "      <td>GBR</td>\n",
       "      <td>10580</td>\n",
       "      <td>10805</td>\n",
       "      <td>Male</td>\n",
       "      <td>27</td>\n",
       "      <td>255.883333</td>\n",
       "    </tr>\n",
       "    <tr>\n",
       "      <th>8</th>\n",
       "      <td>NED</td>\n",
       "      <td>11957</td>\n",
       "      <td>12201</td>\n",
       "      <td>Male</td>\n",
       "      <td>42</td>\n",
       "      <td>264.250000</td>\n",
       "    </tr>\n",
       "    <tr>\n",
       "      <th>9</th>\n",
       "      <td>B.C</td>\n",
       "      <td>18933</td>\n",
       "      <td>19266</td>\n",
       "      <td>Male</td>\n",
       "      <td>48</td>\n",
       "      <td>306.683333</td>\n",
       "    </tr>\n",
       "  </tbody>\n",
       "</table>\n",
       "</div>"
      ],
      "text/plain": [
       "  Pais  Corredor  Lugar  Genero  Edad      Tiempo\n",
       "0  GBR      3475   3592    Male    52  217.483333\n",
       "1   NY     13594  13853  Female    40  272.550000\n",
       "2  FRA     12012  12256    Male    31  265.283333\n",
       "3   MI     10236  10457  Female    33  256.150000\n",
       "4   NY      9476   9686    Male    33  252.250000\n",
       "5   NJ      1720   1784    Male    40  201.966667\n",
       "6   CA     15736  16020  Female    30  283.566667\n",
       "7  GBR     10580  10805    Male    27  255.883333\n",
       "8  NED     11957  12201    Male    42  264.250000\n",
       "9  B.C     18933  19266    Male    48  306.683333"
      ]
     },
     "execution_count": 12,
     "metadata": {},
     "output_type": "execute_result"
    }
   ],
   "source": [
    "corredores.head(10)\n"
   ]
  },
  {
   "cell_type": "markdown",
   "id": "c1911487",
   "metadata": {},
   "source": [
    "Seleccion"
   ]
  },
  {
   "cell_type": "code",
   "execution_count": 25,
   "id": "8ba0c779",
   "metadata": {},
   "outputs": [
    {
     "data": {
      "text/html": [
       "<div>\n",
       "<style scoped>\n",
       "    .dataframe tbody tr th:only-of-type {\n",
       "        vertical-align: middle;\n",
       "    }\n",
       "\n",
       "    .dataframe tbody tr th {\n",
       "        vertical-align: top;\n",
       "    }\n",
       "\n",
       "    .dataframe thead th {\n",
       "        text-align: right;\n",
       "    }\n",
       "</style>\n",
       "<table border=\"1\" class=\"dataframe\">\n",
       "  <thead>\n",
       "    <tr style=\"text-align: right;\">\n",
       "      <th></th>\n",
       "      <th>Pais</th>\n",
       "      <th>Edad</th>\n",
       "    </tr>\n",
       "  </thead>\n",
       "  <tbody>\n",
       "    <tr>\n",
       "      <th>0</th>\n",
       "      <td>GBR</td>\n",
       "      <td>52</td>\n",
       "    </tr>\n",
       "    <tr>\n",
       "      <th>1</th>\n",
       "      <td>NY</td>\n",
       "      <td>40</td>\n",
       "    </tr>\n",
       "    <tr>\n",
       "      <th>2</th>\n",
       "      <td>FRA</td>\n",
       "      <td>31</td>\n",
       "    </tr>\n",
       "    <tr>\n",
       "      <th>3</th>\n",
       "      <td>MI</td>\n",
       "      <td>33</td>\n",
       "    </tr>\n",
       "    <tr>\n",
       "      <th>4</th>\n",
       "      <td>NY</td>\n",
       "      <td>33</td>\n",
       "    </tr>\n",
       "    <tr>\n",
       "      <th>...</th>\n",
       "      <td>...</td>\n",
       "      <td>...</td>\n",
       "    </tr>\n",
       "    <tr>\n",
       "      <th>995</th>\n",
       "      <td>FRA</td>\n",
       "      <td>61</td>\n",
       "    </tr>\n",
       "    <tr>\n",
       "      <th>996</th>\n",
       "      <td>GBR</td>\n",
       "      <td>37</td>\n",
       "    </tr>\n",
       "    <tr>\n",
       "      <th>997</th>\n",
       "      <td>IRL</td>\n",
       "      <td>53</td>\n",
       "    </tr>\n",
       "    <tr>\n",
       "      <th>998</th>\n",
       "      <td>NY</td>\n",
       "      <td>21</td>\n",
       "    </tr>\n",
       "    <tr>\n",
       "      <th>999</th>\n",
       "      <td>GER</td>\n",
       "      <td>55</td>\n",
       "    </tr>\n",
       "  </tbody>\n",
       "</table>\n",
       "<p>1000 rows × 2 columns</p>\n",
       "</div>"
      ],
      "text/plain": [
       "    Pais  Edad\n",
       "0    GBR    52\n",
       "1     NY    40\n",
       "2    FRA    31\n",
       "3     MI    33\n",
       "4     NY    33\n",
       "..   ...   ...\n",
       "995  FRA    61\n",
       "996  GBR    37\n",
       "997  IRL    53\n",
       "998   NY    21\n",
       "999  GER    55\n",
       "\n",
       "[1000 rows x 2 columns]"
      ]
     },
     "execution_count": 25,
     "metadata": {},
     "output_type": "execute_result"
    }
   ],
   "source": [
    "corredores.loc[:,[\"Pais\",\"Edad\"]]"
   ]
  },
  {
   "cell_type": "code",
   "execution_count": 13,
   "id": "f4c57d09",
   "metadata": {},
   "outputs": [
    {
     "data": {
      "text/plain": [
       "Index(['Pais', 'Corredor', 'Lugar', 'Genero', 'Edad', 'Tiempo'], dtype='object')"
      ]
     },
     "execution_count": 13,
     "metadata": {},
     "output_type": "execute_result"
    }
   ],
   "source": [
    "corredores.columns"
   ]
  },
  {
   "cell_type": "markdown",
   "id": "15535261",
   "metadata": {},
   "source": [
    "Generamos grafica"
   ]
  },
  {
   "cell_type": "code",
   "execution_count": 14,
   "id": "acbed7c4",
   "metadata": {},
   "outputs": [
    {
     "data": {
      "image/png": "[encoded data removed]",
      "text/plain": [
       "<Figure size 432x288 with 1 Axes>"
      ]
     },
     "metadata": {
      "needs_background": "light"
     },
     "output_type": "display_data"
    }
   ],
   "source": [
    "plt.title('Edad')\n",
    "plt.hist(corredores[\"Edad\"], edgecolor= 'black', linewidth=1)\n",
    "plt.show()"
   ]
  },
  {
   "cell_type": "code",
   "execution_count": 11,
   "id": "5770e6a5",
   "metadata": {},
   "outputs": [],
   "source": [
    "s = pd.Series([1, 3, 5, np.nan, 6, 8])"
   ]
  },
  {
   "cell_type": "code",
   "execution_count": 15,
   "id": "3c3ecff2",
   "metadata": {},
   "outputs": [
    {
     "data": {
      "text/plain": [
       "0    1.0\n",
       "1    3.0\n",
       "2    5.0\n",
       "3    NaN\n",
       "4    6.0\n",
       "5    8.0\n",
       "dtype: float64"
      ]
     },
     "execution_count": 15,
     "metadata": {},
     "output_type": "execute_result"
    }
   ],
   "source": [
    "s"
   ]
  },
  {
   "cell_type": "code",
   "execution_count": 16,
   "id": "0d0b23e5",
   "metadata": {},
   "outputs": [],
   "source": [
    "dates = pd.date_range(\"20130101\", periods=6)"
   ]
  },
  {
   "cell_type": "code",
   "execution_count": 17,
   "id": "5b214e48",
   "metadata": {},
   "outputs": [
    {
     "data": {
      "text/plain": [
       "DatetimeIndex(['2013-01-01', '2013-01-02', '2013-01-03', '2013-01-04',\n",
       "               '2013-01-05', '2013-01-06'],\n",
       "              dtype='datetime64[ns]', freq='D')"
      ]
     },
     "execution_count": 17,
     "metadata": {},
     "output_type": "execute_result"
    }
   ],
   "source": [
    "dates"
   ]
  },
  {
   "cell_type": "code",
   "execution_count": null,
   "id": "f0defc9e",
   "metadata": {},
   "outputs": [],
   "source": []
  }
 ],
 "metadata": {
  "kernelspec": {
   "display_name": "Python 3 (ipykernel)",
   "language": "python",
   "name": "python3"
  },
  "language_info": {
   "codemirror_mode": {
    "name": "ipython",
    "version": 3
   },
   "file_extension": ".py",
   "mimetype": "text/x-python",
   "name": "python",
   "nbconvert_exporter": "python",
   "pygments_lexer": "ipython3",
   "version": "3.9.6"
  }
 },
 "nbformat": 4,
 "nbformat_minor": 5
}
